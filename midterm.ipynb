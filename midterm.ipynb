{
 "cells": [
  {
   "attachments": {},
   "cell_type": "markdown",
   "metadata": {},
   "source": [
    "# Midterm Project - Team Cartwheel A\n",
    "\n",
    "### Generating a Disk"
   ]
  },
  {
   "cell_type": "code",
   "execution_count": null,
   "metadata": {},
   "outputs": [],
   "source": [
    "!gcc -o disk disk.cpp\n",
    "!./disk disk_settings.dat disk_initial_conditions.dat"
   ]
  },
  {
   "cell_type": "code",
   "execution_count": null,
   "metadata": {},
   "outputs": [],
   "source": [
    "!python plotting_initial_disk.py"
   ]
  },
  {
   "cell_type": "code",
   "execution_count": null,
   "metadata": {},
   "outputs": [],
   "source": [
    "!gcc -o simulation simulation.cpp\n",
    "!./simulation simulation_settings.dat disk_initial_conditions.dat data_log.dat"
   ]
  },
  {
   "cell_type": "code",
   "execution_count": null,
   "metadata": {},
   "outputs": [],
   "source": [
    "!python animate.py"
   ]
  },
  {
   "cell_type": "code",
   "execution_count": null,
   "metadata": {},
   "outputs": [],
   "source": [
    "# Visualize animation.mp4\n",
    "from IPython.display import HTML\n",
    "HTML('<iframe src=\"animation.mp4\" width=\"800\" height=\"600\" frameborder=\"0\" allowfullscreen></iframe>')"
   ]
  }
 ],
 "metadata": {
  "language_info": {
   "name": "python"
  },
  "orig_nbformat": 4
 },
 "nbformat": 4,
 "nbformat_minor": 2
}
